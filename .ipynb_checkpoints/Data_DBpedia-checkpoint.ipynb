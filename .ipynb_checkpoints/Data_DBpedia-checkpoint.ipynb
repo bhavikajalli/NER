{
 "cells": [
  {
   "cell_type": "code",
   "execution_count": null,
   "metadata": {
    "collapsed": true
   },
   "outputs": [],
   "source": [
    "from SPARQLWrapper import SPARQLWrapper, JSON"
   ]
  },
  {
   "cell_type": "code",
   "execution_count": null,
   "metadata": {
    "collapsed": true
   },
   "outputs": [],
   "source": [
    "sparql = SPARQLWrapper(\"http://dbpedia.org/sparql\")\n",
    "sparql.setQuery(\"\"\"\n",
    "    PREFIX dbo: <http://dbpedia.org/ontology/>\n",
    "    PREFIX dbr: <http://dbpedia.org/resource/>\n",
    "    PREFIX rdfs: <http://www.w3.org/2000/01/rdf-schema#>\n",
    "    PREFIX xsd: <http://www.w3.org/2001/XMLSchema#>\n",
    "    PREFIX foaf: <http://xmlns.com/foaf/0.1/>\n",
    "\n",
    "    SELECT DISTINCT ?name ?gender ?givenName ?surname\n",
    "    WHERE {\n",
    "    {\n",
    "\n",
    "    SELECT DISTINCT ?name ?gender ?givenName ?surname\n",
    "    WHERE {\n",
    "    ?person dbo:birthDate ?birth .\n",
    "    ?person foaf:givenName ?givenName .\n",
    "    ?person foaf:surname ?surname .\n",
    "    ?person foaf:gender ?gender .\n",
    "    ?person rdfs:label ?name FILTER (lang(?name) = \"en\").\n",
    "    OPTIONAL { ?person dbo:deathDate ?death . }\n",
    "    FILTER (?birth > \"1900-01-01\"^^xsd:date) .\n",
    "    }\n",
    "    ORDER BY (?name)\n",
    "    }\n",
    "    }\n",
    "    LIMIT 10000\n",
    "    OFFSET 600000\n",
    "\"\"\")\n",
    "sparql.setReturnFormat(JSON)\n",
    "results = sparql.query().convert()\n",
    "\n"
   ]
  }
 ],
 "metadata": {
  "kernelspec": {
   "display_name": "Python 3",
   "language": "python",
   "name": "python3"
  },
  "language_info": {
   "codemirror_mode": {
    "name": "ipython",
    "version": 3
   },
   "file_extension": ".py",
   "mimetype": "text/x-python",
   "name": "python",
   "nbconvert_exporter": "python",
   "pygments_lexer": "ipython3",
   "version": "3.6.3"
  }
 },
 "nbformat": 4,
 "nbformat_minor": 2
}
