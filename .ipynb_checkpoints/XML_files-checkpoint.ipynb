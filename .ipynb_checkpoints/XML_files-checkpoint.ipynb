{
 "cells": [
  {
   "cell_type": "code",
   "execution_count": 34,
   "metadata": {
    "collapsed": true
   },
   "outputs": [],
   "source": [
    "import xml.etree.ElementTree as ET\n",
    "import os\n",
    "from collections import Counter"
   ]
  },
  {
   "cell_type": "code",
   "execution_count": 42,
   "metadata": {},
   "outputs": [
    {
     "data": {
      "text/plain": [
       "[('**/**/**', 591),\n",
       " ('****-**-**', 269),\n",
       " ('**/**/****', 223),\n",
       " ('****', 202),\n",
       " ('*/**/**', 126),\n",
       " ('*/**', 124)]"
      ]
     },
     "execution_count": 42,
     "metadata": {},
     "output_type": "execute_result"
    }
   ],
   "source": [
    "def alias_date(date):\n",
    "    aliased_date = \"\"\n",
    "    for letter in date:\n",
    "#         if letter.isalpha():\n",
    "#             aliased_date += letter\n",
    "        if letter.isdigit():\n",
    "            aliased_date += '*'\n",
    "        else:\n",
    "            aliased_date += letter\n",
    "    return aliased_date   \n",
    "\n",
    "dates_format = []\n",
    "professions = []\n",
    "folderPath = 'training-PHI-Gold-Set2/'\n",
    "for xmlfile in os.listdir(folderPath):\n",
    "    #print(file)\n",
    "    # create element tree object\n",
    "    tree = ET.parse(folderPath+xmlfile)\n",
    " \n",
    "    # get root element\n",
    "    root = tree.getroot()\n",
    "    for form in root.findall(\"./TAGS/DATE\"):\n",
    "        dates_format.append(alias_date(form.attrib['text']))\n",
    "    for form in root.findall(\"./TAGS/PROFESSION\"):\n",
    "        professions.append(form.attrib['text'])\n",
    "    \n",
    "\n",
    "dates_format_unique = list(set(dates_format)) \n",
    "dates_format_count = Counter(dates_format)\n",
    "dates_format_count.most_common(6)"
   ]
  },
  {
   "cell_type": "code",
   "execution_count": null,
   "metadata": {
    "collapsed": true
   },
   "outputs": [],
   "source": []
  }
 ],
 "metadata": {
  "kernelspec": {
   "display_name": "Python 3",
   "language": "python",
   "name": "python3"
  },
  "language_info": {
   "codemirror_mode": {
    "name": "ipython",
    "version": 3
   },
   "file_extension": ".py",
   "mimetype": "text/x-python",
   "name": "python",
   "nbconvert_exporter": "python",
   "pygments_lexer": "ipython3",
   "version": "3.6.3"
  }
 },
 "nbformat": 4,
 "nbformat_minor": 2
}
